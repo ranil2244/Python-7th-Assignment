{
  "nbformat": 4,
  "nbformat_minor": 0,
  "metadata": {
    "colab": {
      "provenance": []
    },
    "kernelspec": {
      "name": "python3",
      "display_name": "Python 3"
    },
    "language_info": {
      "name": "python"
    }
  },
  "cells": [
    {
      "cell_type": "markdown",
      "source": [
        "# ***Exercise 1: (Score : 1)***"
      ],
      "metadata": {
        "id": "mZqHM2nKu6_T"
      }
    },
    {
      "cell_type": "markdown",
      "source": [
        "# ***Exercise 1***"
      ],
      "metadata": {
        "id": "hX9Ia0XPy1eN"
      }
    },
    {
      "cell_type": "markdown",
      "source": [
        "Create a numpy array containing the numbers from 1 to 10, and then reshape it to a 2x5 matrix."
      ],
      "metadata": {
        "id": "gCxoxNLUuvwV"
      }
    },
    {
      "cell_type": "code",
      "execution_count": null,
      "metadata": {
        "id": "2W9dYN4VsuFC"
      },
      "outputs": [],
      "source": [
        "import numpy as np"
      ]
    },
    {
      "cell_type": "code",
      "source": [
        "# Create a numpy array containing numbers from 1 to 10\n",
        "array = np.arange(1, 11)\n",
        "\n",
        "# Reshape the array to a 2x5 matrix\n",
        "reshaped_array = array.reshape(2, 5)\n",
        "\n",
        "print(reshaped_array)\n"
      ],
      "metadata": {
        "colab": {
          "base_uri": "https://localhost:8080/"
        },
        "id": "ljKWjUxktOao",
        "outputId": "df6f90ac-82c4-4f76-f9f5-0f3eff7b450c"
      },
      "execution_count": null,
      "outputs": [
        {
          "output_type": "stream",
          "name": "stdout",
          "text": [
            "[[ 1  2  3  4  5]\n",
            " [ 6  7  8  9 10]]\n"
          ]
        }
      ]
    },
    {
      "cell_type": "markdown",
      "source": [
        "# ***Exercise 2: (Score : 1)***"
      ],
      "metadata": {
        "id": "aFm2BQAtvTBk"
      }
    },
    {
      "cell_type": "markdown",
      "source": [
        "Create a numpy array containing the numbers from 1 to 20, and then extract the elements between the 5th and 15th index."
      ],
      "metadata": {
        "id": "jklIuLunvhv8"
      }
    },
    {
      "cell_type": "code",
      "source": [
        "# Create a numpy array containing numbers from 1 to 20\n",
        "array = np.arange(1, 21)\n",
        "\n",
        "# Extract elements between the 5th and 15th index (inclusive of index 5 and exclusive of index 15)\n",
        "extracted_elements = array[5:15]\n",
        "\n",
        "print(extracted_elements)\n"
      ],
      "metadata": {
        "colab": {
          "base_uri": "https://localhost:8080/"
        },
        "id": "AoXSInjuuBuw",
        "outputId": "b9cfa33f-1180-4636-fc60-0d31eac0cc90"
      },
      "execution_count": null,
      "outputs": [
        {
          "output_type": "stream",
          "name": "stdout",
          "text": [
            "[ 6  7  8  9 10 11 12 13 14 15]\n"
          ]
        }
      ]
    },
    {
      "cell_type": "markdown",
      "source": [
        "# ***Exercise 3: (Score : 2)***"
      ],
      "metadata": {
        "id": "oAujkVW7vqE7"
      }
    },
    {
      "cell_type": "code",
      "source": [
        "import pandas as pd\n",
        "\n",
        "# Create a Pandas series with the given data\n",
        "data = {'apples': 3, 'bananas': 2, 'oranges': 1}\n",
        "series = pd.Series(data)\n",
        "\n",
        "# Add a new item to the series with the key 'pears' and value 4\n",
        "series['pears'] = 4\n",
        "\n",
        "print(series)\n"
      ],
      "metadata": {
        "colab": {
          "base_uri": "https://localhost:8080/"
        },
        "id": "FqeDwu1qvbaS",
        "outputId": "44eda37a-b7ae-4c33-c219-9313c0b64459"
      },
      "execution_count": null,
      "outputs": [
        {
          "output_type": "stream",
          "name": "stdout",
          "text": [
            "apples     3\n",
            "bananas    2\n",
            "oranges    1\n",
            "pears      4\n",
            "dtype: int64\n"
          ]
        }
      ]
    },
    {
      "cell_type": "markdown",
      "source": [
        "# **Exercise 4:(Score : 2)**"
      ],
      "metadata": {
        "id": "McKkPAWru-Lk"
      }
    },
    {
      "cell_type": "markdown",
      "source": [
        "Create a dataframe with the following columns: name, age, and gender. The dataframe should have 10 rows of data."
      ],
      "metadata": {
        "id": "qovg-g2yvbTs"
      }
    },
    {
      "cell_type": "code",
      "source": [
        "import pandas as pd\n",
        "\n",
        "# Create a DataFrame with name, age, and gender columns\n",
        "data = {\n",
        "    'name': ['Alice', 'Bob', 'Charlie', 'David', 'Eva', 'Frank', 'Grace', 'Hannah', 'Ian', 'Jack'],\n",
        "    'age': [25, 32, 29, 45, 38, 50, 28, 24, 33, 40],\n",
        "    'gender': ['F', 'M', 'M', 'M', 'F', 'M', 'F', 'F', 'M', 'M']\n",
        "}\n",
        "df = pd.DataFrame(data)\n",
        "\n",
        "print(df)\n"
      ],
      "metadata": {
        "id": "9mzkh4v_xEZP",
        "colab": {
          "base_uri": "https://localhost:8080/"
        },
        "outputId": "cf412123-e821-412b-a1bf-efa97e7bc658"
      },
      "execution_count": null,
      "outputs": [
        {
          "output_type": "stream",
          "name": "stdout",
          "text": [
            "      name  age gender\n",
            "0    Alice   25      F\n",
            "1      Bob   32      M\n",
            "2  Charlie   29      M\n",
            "3    David   45      M\n",
            "4      Eva   38      F\n",
            "5    Frank   50      M\n",
            "6    Grace   28      F\n",
            "7   Hannah   24      F\n",
            "8      Ian   33      M\n",
            "9     Jack   40      M\n"
          ]
        }
      ]
    },
    {
      "cell_type": "markdown",
      "source": [
        "# ***Exercise 5: (Score : 1)***"
      ],
      "metadata": {
        "id": "7BgCAbs0xIPv"
      }
    },
    {
      "cell_type": "markdown",
      "source": [
        "Add a new column to the data frame created in question 1, called occupation. The values for this column should be Programmer, Manager, and Analyst, corresponding to the rows in the dataframe."
      ],
      "metadata": {
        "id": "ooBhg7TExOog"
      }
    },
    {
      "cell_type": "code",
      "source": [
        "import pandas as pd\n",
        "\n",
        "# Create a DataFrame with name, age, and gender columns\n",
        "data = {\n",
        "    'name': ['Alice', 'Bob', 'Charlie', 'David', 'Eva', 'Frank', 'Grace', 'Hannah', 'Ian', 'Jack'],\n",
        "    'age': [25, 32, 29, 45, 38, 50, 28, 24, 33, 40],\n",
        "    'gender': ['F', 'M', 'M', 'M', 'F', 'M', 'F', 'F', 'M', 'M']\n",
        "}\n",
        "\n",
        "df = pd.DataFrame(data)\n",
        "\n",
        "# Define the occupations in a repeating pattern\n",
        "occupations = ['Programmer', 'Manager', 'Analyst']\n",
        "\n",
        "# Assign the occupations to the new 'occupation' column by repeating the list\n",
        "df['occupation'] = occupations * (len(df) // len(occupations)) + occupations[:len(df) % len(occupations)]\n",
        "\n",
        "# Print the updated DataFrame\n",
        "print(df)\n"
      ],
      "metadata": {
        "colab": {
          "base_uri": "https://localhost:8080/"
        },
        "id": "icFYGk4XvlqR",
        "outputId": "266b8726-742f-49a1-d2fa-23fd87183d6e"
      },
      "execution_count": null,
      "outputs": [
        {
          "output_type": "stream",
          "name": "stdout",
          "text": [
            "      name  age gender  occupation\n",
            "0    Alice   25      F  Programmer\n",
            "1      Bob   32      M     Manager\n",
            "2  Charlie   29      M     Analyst\n",
            "3    David   45      M  Programmer\n",
            "4      Eva   38      F     Manager\n",
            "5    Frank   50      M     Analyst\n",
            "6    Grace   28      F  Programmer\n",
            "7   Hannah   24      F     Manager\n",
            "8      Ian   33      M     Analyst\n",
            "9     Jack   40      M  Programmer\n"
          ]
        }
      ]
    },
    {
      "cell_type": "markdown",
      "source": [
        "# ***Exercise 6: (Score : 1)***"
      ],
      "metadata": {
        "id": "Tws9vctfx2FG"
      }
    },
    {
      "cell_type": "markdown",
      "source": [
        "Select the rows of the dataframe where the age is greater than or equal to 30."
      ],
      "metadata": {
        "id": "lGxc0j9ex5Jz"
      }
    },
    {
      "cell_type": "code",
      "source": [
        "# Select rows where the age is greater than or equal to 30\n",
        "age_above_30 = df[df['age'] >= 30]\n",
        "\n",
        "# Print the filtered DataFrame\n",
        "print(age_above_30)\n"
      ],
      "metadata": {
        "colab": {
          "base_uri": "https://localhost:8080/"
        },
        "id": "j9Jd0JfPyMxB",
        "outputId": "58dbb4b9-5e4e-4f81-da21-db8835705859"
      },
      "execution_count": null,
      "outputs": [
        {
          "output_type": "stream",
          "name": "stdout",
          "text": [
            "    name  age gender  occupation\n",
            "1    Bob   32      M     Manager\n",
            "3  David   45      M  Programmer\n",
            "4    Eva   38      F     Manager\n",
            "5  Frank   50      M     Analyst\n",
            "8    Ian   33      M     Analyst\n",
            "9   Jack   40      M  Programmer\n"
          ]
        }
      ]
    },
    {
      "cell_type": "markdown",
      "source": [
        "# ***Exercise 7: (Score : 2)***"
      ],
      "metadata": {
        "id": "XyRUpuFWyW7d"
      }
    },
    {
      "cell_type": "markdown",
      "source": [
        "Convert this dataframe to a csv file and read that csv file, finally display the contents"
      ],
      "metadata": {
        "id": "Y6d7xDRMydGp"
      }
    },
    {
      "cell_type": "code",
      "source": [
        "import pandas as pd\n",
        "\n",
        "# Assuming 'df' is the DataFrame created earlier\n",
        "data = {\n",
        "    'name': ['Alice', 'Bob', 'Charlie', 'David', 'Eva', 'Frank', 'Grace', 'Hannah', 'Ian', 'Jack'],\n",
        "    'age': [25, 32, 29, 45, 38, 50, 28, 24, 33, 40],\n",
        "    'gender': ['F', 'M', 'M', 'M', 'F', 'M', 'F', 'F', 'M', 'M'],\n",
        "    'occupation': ['Programmer', 'Manager', 'Analyst', 'Programmer', 'Manager',\n",
        "                   'Analyst', 'Programmer', 'Manager', 'Analyst', 'Programmer']\n",
        "}\n",
        "\n",
        "# Create the DataFrame\n",
        "df = pd.DataFrame(data)\n",
        "\n",
        "# Convert the DataFrame to a CSV file (without including the index)\n",
        "df.to_csv('dataframe.csv', index=False)\n",
        "\n",
        "# Read the CSV file back into a DataFrame\n",
        "df_from_csv = pd.read_csv('dataframe.csv')\n",
        "\n",
        "# Display the contents of the DataFrame\n",
        "print(df_from_csv)\n"
      ],
      "metadata": {
        "colab": {
          "base_uri": "https://localhost:8080/"
        },
        "id": "XYDwcK9LyhfO",
        "outputId": "4792c83d-5aa4-4451-aedf-f074926fc731"
      },
      "execution_count": null,
      "outputs": [
        {
          "output_type": "stream",
          "name": "stdout",
          "text": [
            "      name  age gender  occupation\n",
            "0    Alice   25      F  Programmer\n",
            "1      Bob   32      M     Manager\n",
            "2  Charlie   29      M     Analyst\n",
            "3    David   45      M  Programmer\n",
            "4      Eva   38      F     Manager\n",
            "5    Frank   50      M     Analyst\n",
            "6    Grace   28      F  Programmer\n",
            "7   Hannah   24      F     Manager\n",
            "8      Ian   33      M     Analyst\n",
            "9     Jack   40      M  Programmer\n"
          ]
        }
      ]
    }
  ]
}